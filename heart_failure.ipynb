{
 "cells": [
  {
   "cell_type": "markdown",
   "metadata": {},
   "source": [
    "# Heart Failure Prediction\n",
    "Our objective here is to build a model to predict whether or not a patient is at risk for death due to heart failure."
   ]
  },
  {
   "cell_type": "markdown",
   "metadata": {},
   "source": [
    "## Cursory Data Exploration"
   ]
  },
  {
   "cell_type": "code",
   "execution_count": 1,
   "metadata": {},
   "outputs": [],
   "source": [
    "import pandas as pd\n",
    "import numpy as np\n",
    "from sklearn.model_selection import train_test_split, GridSearchCV\n",
    "from sklearn.ensemble import GradientBoostingClassifier\n",
    "from sklearn.linear_model import LogisticRegression\n",
    "from sklearn.metrics import classification_report, confusion_matrix\n",
    "import matplotlib.pyplot as plt\n",
    "import seaborn as sns\n",
    "%matplotlib inline"
   ]
  },
  {
   "cell_type": "markdown",
   "metadata": {},
   "source": [
    "Let's just look at the data first."
   ]
  },
  {
   "cell_type": "code",
   "execution_count": 2,
   "metadata": {},
   "outputs": [
    {
     "data": {
      "text/html": [
       "<div>\n",
       "<style scoped>\n",
       "    .dataframe tbody tr th:only-of-type {\n",
       "        vertical-align: middle;\n",
       "    }\n",
       "\n",
       "    .dataframe tbody tr th {\n",
       "        vertical-align: top;\n",
       "    }\n",
       "\n",
       "    .dataframe thead th {\n",
       "        text-align: right;\n",
       "    }\n",
       "</style>\n",
       "<table border=\"1\" class=\"dataframe\">\n",
       "  <thead>\n",
       "    <tr style=\"text-align: right;\">\n",
       "      <th></th>\n",
       "      <th>age</th>\n",
       "      <th>anaemia</th>\n",
       "      <th>creatinine_phosphokinase</th>\n",
       "      <th>diabetes</th>\n",
       "      <th>ejection_fraction</th>\n",
       "      <th>high_blood_pressure</th>\n",
       "      <th>platelets</th>\n",
       "      <th>serum_creatinine</th>\n",
       "      <th>serum_sodium</th>\n",
       "      <th>sex</th>\n",
       "      <th>smoking</th>\n",
       "      <th>time</th>\n",
       "      <th>DEATH_EVENT</th>\n",
       "    </tr>\n",
       "  </thead>\n",
       "  <tbody>\n",
       "    <tr>\n",
       "      <th>0</th>\n",
       "      <td>75.0</td>\n",
       "      <td>0</td>\n",
       "      <td>582</td>\n",
       "      <td>0</td>\n",
       "      <td>20</td>\n",
       "      <td>1</td>\n",
       "      <td>265000.00</td>\n",
       "      <td>1.9</td>\n",
       "      <td>130</td>\n",
       "      <td>1</td>\n",
       "      <td>0</td>\n",
       "      <td>4</td>\n",
       "      <td>1</td>\n",
       "    </tr>\n",
       "    <tr>\n",
       "      <th>1</th>\n",
       "      <td>55.0</td>\n",
       "      <td>0</td>\n",
       "      <td>7861</td>\n",
       "      <td>0</td>\n",
       "      <td>38</td>\n",
       "      <td>0</td>\n",
       "      <td>263358.03</td>\n",
       "      <td>1.1</td>\n",
       "      <td>136</td>\n",
       "      <td>1</td>\n",
       "      <td>0</td>\n",
       "      <td>6</td>\n",
       "      <td>1</td>\n",
       "    </tr>\n",
       "    <tr>\n",
       "      <th>2</th>\n",
       "      <td>65.0</td>\n",
       "      <td>0</td>\n",
       "      <td>146</td>\n",
       "      <td>0</td>\n",
       "      <td>20</td>\n",
       "      <td>0</td>\n",
       "      <td>162000.00</td>\n",
       "      <td>1.3</td>\n",
       "      <td>129</td>\n",
       "      <td>1</td>\n",
       "      <td>1</td>\n",
       "      <td>7</td>\n",
       "      <td>1</td>\n",
       "    </tr>\n",
       "    <tr>\n",
       "      <th>3</th>\n",
       "      <td>50.0</td>\n",
       "      <td>1</td>\n",
       "      <td>111</td>\n",
       "      <td>0</td>\n",
       "      <td>20</td>\n",
       "      <td>0</td>\n",
       "      <td>210000.00</td>\n",
       "      <td>1.9</td>\n",
       "      <td>137</td>\n",
       "      <td>1</td>\n",
       "      <td>0</td>\n",
       "      <td>7</td>\n",
       "      <td>1</td>\n",
       "    </tr>\n",
       "    <tr>\n",
       "      <th>4</th>\n",
       "      <td>65.0</td>\n",
       "      <td>1</td>\n",
       "      <td>160</td>\n",
       "      <td>1</td>\n",
       "      <td>20</td>\n",
       "      <td>0</td>\n",
       "      <td>327000.00</td>\n",
       "      <td>2.7</td>\n",
       "      <td>116</td>\n",
       "      <td>0</td>\n",
       "      <td>0</td>\n",
       "      <td>8</td>\n",
       "      <td>1</td>\n",
       "    </tr>\n",
       "  </tbody>\n",
       "</table>\n",
       "</div>"
      ],
      "text/plain": [
       "    age  anaemia  creatinine_phosphokinase  diabetes  ejection_fraction  \\\n",
       "0  75.0        0                       582         0                 20   \n",
       "1  55.0        0                      7861         0                 38   \n",
       "2  65.0        0                       146         0                 20   \n",
       "3  50.0        1                       111         0                 20   \n",
       "4  65.0        1                       160         1                 20   \n",
       "\n",
       "   high_blood_pressure  platelets  serum_creatinine  serum_sodium  sex  \\\n",
       "0                    1  265000.00               1.9           130    1   \n",
       "1                    0  263358.03               1.1           136    1   \n",
       "2                    0  162000.00               1.3           129    1   \n",
       "3                    0  210000.00               1.9           137    1   \n",
       "4                    0  327000.00               2.7           116    0   \n",
       "\n",
       "   smoking  time  DEATH_EVENT  \n",
       "0        0     4            1  \n",
       "1        0     6            1  \n",
       "2        1     7            1  \n",
       "3        0     7            1  \n",
       "4        0     8            1  "
      ]
     },
     "execution_count": 2,
     "metadata": {},
     "output_type": "execute_result"
    }
   ],
   "source": [
    "df = pd.read_csv('/Users/jacobder/Downloads/heart_failure_clinical_records_dataset.csv')\n",
    "df.head()"
   ]
  },
  {
   "cell_type": "markdown",
   "metadata": {},
   "source": [
    "### Description of the Columns\n",
    "- age: Age\n",
    "- anaemia: Decrease of red blood cells or hemoglobin (boolean)\n",
    "- creatinine_phosphokinase: Level of the CPK enzyme in the blood (mcg/L)\n",
    "- diabetes: If the patient has diabetes (boolean)\n",
    "- ejection fraction: Percentage of blood leaving the heart at each contraction (percentage)\n",
    "- high_blood_pressure: If the patient has hypertension (boolean)\n",
    "- platelets: Platelets in the blood (kiloplatelets/mL)\n",
    "- serum_creatinine: Level of serum creatinine in the blood (mg/dL)\n",
    "- serum_sodium: Level of serum sodium in the blood (mEq/L)\n",
    "- sex: Woman or man (binary)\n",
    "- smoking: If the patient smokes or not (boolean)\n",
    "- time: Follow-up period (days)\n",
    "- DEATH_EVENT: If the patient deceased during the follow-up period (boolean)"
   ]
  },
  {
   "cell_type": "markdown",
   "metadata": {},
   "source": [
    "## Feature Selection\n",
    "Note: We will ignore the time column, since it measures the time between the start of the study and a patient's death or disconnection from the study. It is therefore the most predictive variable in the dataset, but also an impractical one for trying to predict the risk level of future patients.\n",
    "\n",
    "A good first step toward classification is to check which features seem to be correlated with the death of a patient. To this end, it's important to note that the DEATH_EVENT column is boolean whereas other features, such as ejection_fraction, are continuous. Thus, simply picking features based on Pearson coefficients would be reckless in this case. Rather, it might be useful to use logistic regression in order to see which continuous features are predictive.\n",
    "\n",
    "In additon, as this classification can quite literally be a matter of life and death, it's likely safer to maximize recall at the cost of precision. I.e., we'd prefer to classify more patients as at-risk than actually were, rather than misclassify truly at-risk patients with a higher percentage of correct predictions--a patient misclassified as at-risk can have their prognosis reevaluated with minimal harm done. A misclassified at-risk patient may not have the same luxury. "
   ]
  },
  {
   "cell_type": "markdown",
   "metadata": {},
   "source": [
    "### Continuous Variables"
   ]
  },
  {
   "cell_type": "code",
   "execution_count": 3,
   "metadata": {},
   "outputs": [],
   "source": [
    "def check_continuous_feature(column):\n",
    "    \"\"\"Perform logistic regression to predict DEATH_EVENT.\"\"\"\n",
    "    # Split data into train/test sets.\n",
    "    X = np.array(df[column]).reshape(-1,1)\n",
    "    y = np.array(df['DEATH_EVENT'])\n",
    "    X_train, X_test, y_train, y_test = train_test_split(X, y, test_size=0.3)\n",
    "\n",
    "    #Maximize recall using a grid search.\n",
    "    param_grid = {'C':[0.0001, 0.001, 0.01, 0.1, 1], 'max_iter':[200, 300, 400, 500]}\n",
    "    logmodel = GridSearchCV(LogisticRegression(), param_grid, scoring='recall')\n",
    "\n",
    "    logmodel.fit(X_train, y_train)\n",
    "    y_pred = logmodel.predict(X_test)\n",
    "    \n",
    "    print(f'Breadown for {column}', '\\n')\n",
    "    print('Best paramaters:', '\\n', logmodel.best_params_, '\\n')\n",
    "    print('Confusion matrix:', '\\n', confusion_matrix(y_test, y_pred), '\\n')\n",
    "    print('Classification report:', '\\n', classification_report(y_test, y_pred), '\\n')"
   ]
  },
  {
   "cell_type": "markdown",
   "metadata": {},
   "source": [
    "Now, let's check the continuous features."
   ]
  },
  {
   "cell_type": "code",
   "execution_count": 4,
   "metadata": {
    "scrolled": false
   },
   "outputs": [
    {
     "name": "stdout",
     "output_type": "stream",
     "text": [
      "Breadown for age \n",
      "\n",
      "Best paramaters: \n",
      " {'C': 0.1, 'max_iter': 200} \n",
      "\n",
      "Confusion matrix: \n",
      " [[55  3]\n",
      " [27  5]] \n",
      "\n",
      "Classification report: \n",
      "               precision    recall  f1-score   support\n",
      "\n",
      "           0       0.67      0.95      0.79        58\n",
      "           1       0.62      0.16      0.25        32\n",
      "\n",
      "    accuracy                           0.67        90\n",
      "   macro avg       0.65      0.55      0.52        90\n",
      "weighted avg       0.65      0.67      0.60        90\n",
      " \n",
      "\n",
      "Breadown for creatinine_phosphokinase \n",
      "\n",
      "Best paramaters: \n",
      " {'C': 0.0001, 'max_iter': 200} \n",
      "\n",
      "Confusion matrix: \n",
      " [[62  1]\n",
      " [27  0]] \n",
      "\n",
      "Classification report: \n",
      "               precision    recall  f1-score   support\n",
      "\n",
      "           0       0.70      0.98      0.82        63\n",
      "           1       0.00      0.00      0.00        27\n",
      "\n",
      "    accuracy                           0.69        90\n",
      "   macro avg       0.35      0.49      0.41        90\n",
      "weighted avg       0.49      0.69      0.57        90\n",
      " \n",
      "\n",
      "Breadown for ejection_fraction \n",
      "\n",
      "Best paramaters: \n",
      " {'C': 0.01, 'max_iter': 200} \n",
      "\n",
      "Confusion matrix: \n",
      " [[62  0]\n",
      " [22  6]] \n",
      "\n",
      "Classification report: \n",
      "               precision    recall  f1-score   support\n",
      "\n",
      "           0       0.74      1.00      0.85        62\n",
      "           1       1.00      0.21      0.35        28\n",
      "\n",
      "    accuracy                           0.76        90\n",
      "   macro avg       0.87      0.61      0.60        90\n",
      "weighted avg       0.82      0.76      0.69        90\n",
      " \n",
      "\n",
      "Breadown for platelets \n",
      "\n",
      "Best paramaters: \n",
      " {'C': 0.0001, 'max_iter': 200} \n",
      "\n",
      "Confusion matrix: \n",
      " [[57  0]\n",
      " [33  0]] \n",
      "\n",
      "Classification report: \n",
      "               precision    recall  f1-score   support\n",
      "\n",
      "           0       0.63      1.00      0.78        57\n",
      "           1       0.00      0.00      0.00        33\n",
      "\n",
      "    accuracy                           0.63        90\n",
      "   macro avg       0.32      0.50      0.39        90\n",
      "weighted avg       0.40      0.63      0.49        90\n",
      " \n",
      "\n"
     ]
    },
    {
     "name": "stderr",
     "output_type": "stream",
     "text": [
      "/usr/local/lib/python3.8/site-packages/sklearn/metrics/_classification.py:1221: UndefinedMetricWarning: Precision and F-score are ill-defined and being set to 0.0 in labels with no predicted samples. Use `zero_division` parameter to control this behavior.\n",
      "  _warn_prf(average, modifier, msg_start, len(result))\n"
     ]
    },
    {
     "name": "stdout",
     "output_type": "stream",
     "text": [
      "Breadown for serum_creatinine \n",
      "\n",
      "Best paramaters: \n",
      " {'C': 1, 'max_iter': 200} \n",
      "\n",
      "Confusion matrix: \n",
      " [[55  1]\n",
      " [29  5]] \n",
      "\n",
      "Classification report: \n",
      "               precision    recall  f1-score   support\n",
      "\n",
      "           0       0.65      0.98      0.79        56\n",
      "           1       0.83      0.15      0.25        34\n",
      "\n",
      "    accuracy                           0.67        90\n",
      "   macro avg       0.74      0.56      0.52        90\n",
      "weighted avg       0.72      0.67      0.58        90\n",
      " \n",
      "\n",
      "Breadown for serum_sodium \n",
      "\n",
      "Best paramaters: \n",
      " {'C': 0.1, 'max_iter': 200} \n",
      "\n",
      "Confusion matrix: \n",
      " [[54  1]\n",
      " [32  3]] \n",
      "\n",
      "Classification report: \n",
      "               precision    recall  f1-score   support\n",
      "\n",
      "           0       0.63      0.98      0.77        55\n",
      "           1       0.75      0.09      0.15        35\n",
      "\n",
      "    accuracy                           0.63        90\n",
      "   macro avg       0.69      0.53      0.46        90\n",
      "weighted avg       0.68      0.63      0.53        90\n",
      " \n",
      "\n"
     ]
    }
   ],
   "source": [
    "check_continuous_feature('age')\n",
    "check_continuous_feature('creatinine_phosphokinase')\n",
    "check_continuous_feature('ejection_fraction')\n",
    "check_continuous_feature('platelets')\n",
    "check_continuous_feature('serum_creatinine')\n",
    "check_continuous_feature('serum_sodium')"
   ]
  },
  {
   "cell_type": "markdown",
   "metadata": {},
   "source": [
    "So, the most predictive continuous variables seem to be **age**, **ejection_fraction**, and **serum_creatinine**."
   ]
  },
  {
   "cell_type": "markdown",
   "metadata": {},
   "source": [
    "### Boolean Variables\n",
    "Next, we'd like to test how predictive the boolean features are. Again, Pearson coefficients are a bad metric to rely upon here, but so is logistic regression. Unfortunately, to the best of my knowledge, the methods available to test correlation between categorical variables will be of little use to us here. Instead we'll just do some ad hoc visualization in order to find discrepancies."
   ]
  },
  {
   "cell_type": "code",
   "execution_count": 5,
   "metadata": {},
   "outputs": [
    {
     "data": {
      "text/plain": [
       "<AxesSubplot:xlabel='anaemia', ylabel='count'>"
      ]
     },
     "execution_count": 5,
     "metadata": {},
     "output_type": "execute_result"
    },
    {
     "data": {
      "image/png": "[encoded data removed]",
      "text/plain": [
       "<Figure size 432x288 with 1 Axes>"
      ]
     },
     "metadata": {
      "needs_background": "light"
     },
     "output_type": "display_data"
    }
   ],
   "source": [
    "sns.countplot(data=df, x='anaemia', hue='DEATH_EVENT')"
   ]
  },
  {
   "cell_type": "code",
   "execution_count": 6,
   "metadata": {},
   "outputs": [
    {
     "data": {
      "text/plain": [
       "<AxesSubplot:xlabel='diabetes', ylabel='count'>"
      ]
     },
     "execution_count": 6,
     "metadata": {},
     "output_type": "execute_result"
    },
    {
     "data": {
      "image/png": "[encoded data removed]",
      "text/plain": [
       "<Figure size 432x288 with 1 Axes>"
      ]
     },
     "metadata": {
      "needs_background": "light"
     },
     "output_type": "display_data"
    }
   ],
   "source": [
    "sns.countplot(data=df, x='diabetes', hue='DEATH_EVENT')"
   ]
  },
  {
   "cell_type": "code",
   "execution_count": 7,
   "metadata": {},
   "outputs": [
    {
     "data": {
      "text/plain": [
       "<AxesSubplot:xlabel='high_blood_pressure', ylabel='count'>"
      ]
     },
     "execution_count": 7,
     "metadata": {},
     "output_type": "execute_result"
    },
    {
     "data": {
      "image/png": "[encoded data removed]",
      "text/plain": [
       "<Figure size 432x288 with 1 Axes>"
      ]
     },
     "metadata": {
      "needs_background": "light"
     },
     "output_type": "display_data"
    }
   ],
   "source": [
    "sns.countplot(data=df, x='high_blood_pressure', hue='DEATH_EVENT')"
   ]
  },
  {
   "cell_type": "code",
   "execution_count": 8,
   "metadata": {},
   "outputs": [
    {
     "data": {
      "text/plain": [
       "<AxesSubplot:xlabel='sex', ylabel='count'>"
      ]
     },
     "execution_count": 8,
     "metadata": {},
     "output_type": "execute_result"
    },
    {
     "data": {
      "image/png": "[encoded data removed]",
      "text/plain": [
       "<Figure size 432x288 with 1 Axes>"
      ]
     },
     "metadata": {
      "needs_background": "light"
     },
     "output_type": "display_data"
    }
   ],
   "source": [
    "sns.countplot(data=df, x='sex', hue='DEATH_EVENT')"
   ]
  },
  {
   "cell_type": "code",
   "execution_count": 9,
   "metadata": {},
   "outputs": [
    {
     "data": {
      "text/plain": [
       "<AxesSubplot:xlabel='smoking', ylabel='count'>"
      ]
     },
     "execution_count": 9,
     "metadata": {},
     "output_type": "execute_result"
    },
    {
     "data": {
      "image/png": "[encoded data removed]",
      "text/plain": [
       "<Figure size 432x288 with 1 Axes>"
      ]
     },
     "metadata": {
      "needs_background": "light"
     },
     "output_type": "display_data"
    }
   ],
   "source": [
    "sns.countplot(data=df, x='smoking', hue='DEATH_EVENT')"
   ]
  },
  {
   "cell_type": "markdown",
   "metadata": {},
   "source": [
    "So, of the boolean variables, **anaemia** and **high_blood_pressure** appear to have some bearing on the death rates."
   ]
  },
  {
   "cell_type": "markdown",
   "metadata": {},
   "source": [
    "## Modeling\n",
    "Accordingly, we will pick our features based on the analyses above. As for the type of model to choose, a tree-based model seems to be an appropriate choice, since we are using a combination of boolean and continuous variables for prediction. We will use a gradient boosting classifier (Though, random forest could probably work as well?)."
   ]
  },
  {
   "cell_type": "code",
   "execution_count": 10,
   "metadata": {},
   "outputs": [
    {
     "name": "stdout",
     "output_type": "stream",
     "text": [
      "Fitting 5 folds for each of 1680 candidates, totalling 8400 fits\n"
     ]
    },
    {
     "name": "stderr",
     "output_type": "stream",
     "text": [
      "[Parallel(n_jobs=-1)]: Using backend LokyBackend with 8 concurrent workers.\n",
      "[Parallel(n_jobs=-1)]: Done  34 tasks      | elapsed:    2.4s\n",
      "[Parallel(n_jobs=-1)]: Done 304 tasks      | elapsed:    6.5s\n",
      "[Parallel(n_jobs=-1)]: Done 804 tasks      | elapsed:   16.6s\n",
      "[Parallel(n_jobs=-1)]: Done 1488 tasks      | elapsed:   39.6s\n",
      "[Parallel(n_jobs=-1)]: Done 1938 tasks      | elapsed:  1.0min\n",
      "[Parallel(n_jobs=-1)]: Done 2488 tasks      | elapsed:  1.7min\n",
      "[Parallel(n_jobs=-1)]: Done 3138 tasks      | elapsed:  2.6min\n",
      "[Parallel(n_jobs=-1)]: Done 3888 tasks      | elapsed:  3.6min\n",
      "[Parallel(n_jobs=-1)]: Done 4738 tasks      | elapsed:  4.8min\n",
      "[Parallel(n_jobs=-1)]: Done 5688 tasks      | elapsed:  6.1min\n",
      "[Parallel(n_jobs=-1)]: Done 6738 tasks      | elapsed:  7.5min\n",
      "[Parallel(n_jobs=-1)]: Done 7888 tasks      | elapsed:  9.1min\n",
      "[Parallel(n_jobs=-1)]: Done 8400 out of 8400 | elapsed:  9.8min finished\n"
     ]
    },
    {
     "name": "stdout",
     "output_type": "stream",
     "text": [
      "Best paramaters: \n",
      " {'max_depth': 17, 'max_features': 3, 'min_samples_split': 5, 'n_estimators': 200} \n",
      "\n",
      "Confusion matrix: \n",
      " [[46 14]\n",
      " [ 8 22]] \n",
      "\n",
      "Classification report: \n",
      "               precision    recall  f1-score   support\n",
      "\n",
      "           0       0.85      0.77      0.81        60\n",
      "           1       0.61      0.73      0.67        30\n",
      "\n",
      "    accuracy                           0.76        90\n",
      "   macro avg       0.73      0.75      0.74        90\n",
      "weighted avg       0.77      0.76      0.76        90\n",
      "\n"
     ]
    }
   ],
   "source": [
    "features = ['age', 'anaemia', 'ejection_fraction', 'high_blood_pressure', 'serum_creatinine']\n",
    "X = df[features]\n",
    "y = df['DEATH_EVENT']\n",
    "\n",
    "X_train, X_test, y_train, y_test = train_test_split(X, y, test_size=0.3)\n",
    "\n",
    "param_grid = {\n",
    "    'n_estimators': np.linspace(50, 200, num=7, dtype=int),\n",
    "    #'subsample': np.linspace(0.5, 1.0, num=3, dtype=float),\n",
    "    'min_samples_split': np.linspace(2, 5, num=4, dtype=int),\n",
    "    #'min_samples_leaf': np.linspace(1, 3, num=3, dtype=int),\n",
    "    'max_depth': np.linspace(3, 25, num=12, dtype=int),\n",
    "    #'min_impurity_decrease': np.linspace(0.0, 0.2, num=3, dtype=float),\n",
    "    'max_features': np.linspace(1, 5, num=5, dtype=int)\n",
    "}\n",
    "\n",
    "model = GridSearchCV(GradientBoostingClassifier(), param_grid, scoring='recall', n_jobs=-1, verbose=1)\n",
    "model.fit(X_train, y_train)\n",
    "y_pred = model.predict(X_test)\n",
    "\n",
    "print('Best paramaters:', '\\n', model.best_params_, '\\n')\n",
    "print('Confusion matrix:', '\\n', confusion_matrix(y_test, y_pred), '\\n')\n",
    "print('Classification report:', '\\n', classification_report(y_test, y_pred))"
   ]
  },
  {
   "cell_type": "markdown",
   "metadata": {},
   "source": [
    "## Conclusions\n",
    "By selecting relevant features and an appropriate model, and by prioritizing recall, we've constructed a model that performed decently well given the amount of training data and the nature of said data. As desired, the model was overzealous in diagnosing patients as at-risk, but as a result more truly at-risk patients were successfully identified. \n",
    "\n",
    "In practice a model of this calibre could be of use in a supplementary context, but certainly could not replace case-by-case examination by an expert."
   ]
  }
 ],
 "metadata": {
  "kernelspec": {
   "display_name": "Python 3",
   "language": "python",
   "name": "python3"
  },
  "language_info": {
   "codemirror_mode": {
    "name": "ipython",
    "version": 3
   },
   "file_extension": ".py",
   "mimetype": "text/x-python",
   "name": "python",
   "nbconvert_exporter": "python",
   "pygments_lexer": "ipython3",
   "version": "3.8.5"
  }
 },
 "nbformat": 4,
 "nbformat_minor": 4
}
